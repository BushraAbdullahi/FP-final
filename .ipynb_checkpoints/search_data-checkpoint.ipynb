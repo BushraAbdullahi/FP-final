{
 "cells": [
  {
   "cell_type": "code",
   "execution_count": null,
   "metadata": {},
   "outputs": [],
   "source": [
    "%pip install requests bs4 ipywidgets\n"
   ]
  },
  {
   "cell_type": "code",
   "execution_count": 3,
   "metadata": {},
   "outputs": [
    {
     "name": "stdout",
     "output_type": "stream",
     "text": [
      "\n",
      "Usage:   \n",
      "  /usr/local/Cellar/jupyterlab/4.0.6/libexec/bin/python -m pip install [options] <requirement specifier> [package-index-options] ...\n",
      "  /usr/local/Cellar/jupyterlab/4.0.6/libexec/bin/python -m pip install [options] -r <requirements file> [package-index-options] ...\n",
      "  /usr/local/Cellar/jupyterlab/4.0.6/libexec/bin/python -m pip install [options] [-e] <vcs project url> ...\n",
      "  /usr/local/Cellar/jupyterlab/4.0.6/libexec/bin/python -m pip install [options] [-e] <local project path> ...\n",
      "  /usr/local/Cellar/jupyterlab/4.0.6/libexec/bin/python -m pip install [options] <archive url/path> ...\n",
      "\n",
      "ambiguous option: --py (--pypi-url, --python, --python-version?)\n",
      "Note: you may need to restart the kernel to use updated packages.\n"
     ]
    }
   ],
   "source": [
    "%pip install requests bs4 ipywidgets jupyter nbextension enable --py widgetsnbextension"
   ]
  },
  {
   "cell_type": "code",
   "execution_count": 5,
   "metadata": {},
   "outputs": [
    {
     "name": "stdout",
     "output_type": "stream",
     "text": [
      "Title: Every American Exchanged For Iranian Population In First Successful Citizen Swap Deal\n",
      "Text: WASHINGTON—In the first full-scale successful citizen swap of its kind, the White House confirmed Monday that it had exchanged every person in America for the entire population of Iran. “I’m proud to announce that we have transferred 335 million Americans to Iran,” said Biden, who called the swap a “monumental” first step toward thawing diplomatic relations between the two nations, as millions of confused former residents of Washington, D.C. woke up to find themselves in the arid climate of Tehran, and millions of baffled former residents of Tehran woke up in Washington, D.C., rubbing their eyes and blinking as they stared at the completely unfamiliar territory outside the bedroom windows of homes that were not theirs. “I have heard criticism from Republican leaders, but those guys don’t live here anymore. This is a historic day for relations between America and Iran. Or should I say Iran and America?” At press time, President Biden and Iranian President Ebrahim Raisi were arguing about whether the two of them were supposed to stay put or swap places as well. \n"
     ]
    }
   ],
   "source": [
    "import requests\n",
    "from bs4 import BeautifulSoup\n",
    "\n",
    "link = \"https://www.theonion.com/every-american-exchanged-for-iranian-population-in-firs-1850849729\"\n",
    "response = requests.get(link)\n",
    "soup = BeautifulSoup(response.text, \"html.parser\")\n",
    "\n",
    "# Find the title\n",
    "title_element = soup.find(\"h1\")\n",
    "title = title_element.text if title_element else \"Title not found\"\n",
    "\n",
    "# Find the text content\n",
    "content_element = soup.find(\"p\")\n",
    "text = content_element.text if content_element else \"Text not found\"\n",
    "\n",
    "print(f\"Title: {title}\")\n",
    "print(f\"Text: {text}\")\n",
    "\n",
    "\n"
   ]
  },
  {
   "cell_type": "code",
   "execution_count": 6,
   "metadata": {},
   "outputs": [
    {
     "data": {
      "application/vnd.jupyter.widget-view+json": {
       "model_id": "4ba40a868ef940de9a9de05dbad9b960",
       "version_major": 2,
       "version_minor": 0
      },
      "text/plain": [
       "Text(value='', description='Link:', placeholder='Enter article link')"
      ]
     },
     "metadata": {},
     "output_type": "display_data"
    },
    {
     "data": {
      "application/vnd.jupyter.widget-view+json": {
       "model_id": "1492def3cc7542058a84f920a3461198",
       "version_major": 2,
       "version_minor": 0
      },
      "text/plain": [
       "Button(description='Fetch Article', style=ButtonStyle())"
      ]
     },
     "metadata": {},
     "output_type": "display_data"
    }
   ],
   "source": [
    "import ipywidgets as widgets\n",
    "from IPython.display import display\n",
    "\n",
    "# Create input widget\n",
    "link_input = widgets.Text(\n",
    "    placeholder='Enter article link',\n",
    "    description='Link:',\n",
    ")\n",
    "\n",
    "# Create a button widget\n",
    "fetch_button = widgets.Button(\n",
    "    description='Fetch Article',\n",
    ")\n",
    "\n",
    "# Create a variable to store the link\n",
    "article_link = None\n",
    "\n",
    "# Define a function to save the link to the variable\n",
    "def save_article_link(b):\n",
    "    global article_link\n",
    "    article_link = link_input.value\n",
    "\n",
    "# Attach the function to the button click event\n",
    "fetch_button.on_click(save_article_link)\n",
    "\n",
    "# Display the widgets\n",
    "display(link_input, fetch_button)\n"
   ]
  },
  {
   "cell_type": "code",
   "execution_count": 8,
   "metadata": {},
   "outputs": [
    {
     "name": "stdout",
     "output_type": "stream",
     "text": [
      "Title: Parents Sit Adopted Child Down To Explain Why He So Much Uglier Than Them\n",
      "Text: FORT LAUDERDALE, FL—Taking time to help the boy understand the ways in which they were a little bit different than most families, local parents Amanda and Michael Sayers sat their adopted child down Monday to explain why he was so much uglier than them. “Now that you’re getting older, you might have noticed that Mommy and Daddy are what most people think of as attractive, but you’re not exactly what we’d call handsome, are you?” Amanda Sayers told her son Jeremy, saying there was a reason his adoptive parents were both a solid 8 or 9 while he was a 4 at best. “See, you didn’t come out of Mom’s tummy the way your much better-looking brothers and sisters did. You grew inside a different woman’s belly, and when you were born and came to live with our family, we had no way of knowing the tiny baby we held in our arms would, in a few short years, turn out to be so ugly. But you sure did! And here you are, a part of our family now!” Sayers added that, on the plus side, being an adopted kid meant Jeremy didn’t have to worry about inheriting her crippling anxiety or her husband’s obvious propensity toward alcoholism.\n"
     ]
    }
   ],
   "source": [
    "import requests\n",
    "from bs4 import BeautifulSoup\n",
    "\n",
    "# Define a function to fetch and process the article\n",
    "def fetch_and_process_article():\n",
    "    # Check if the article link has been provided\n",
    "    if article_link is None:\n",
    "        print(\"Please enter the article link and click 'Fetch Article' in the previous cell.\")\n",
    "        return\n",
    "    \n",
    "    try:\n",
    "        # Fetch the article\n",
    "        response = requests.get(article_link)\n",
    "        soup = BeautifulSoup(response.text, \"html.parser\")\n",
    "        \n",
    "        # Find the title\n",
    "        title_element = soup.find(\"h1\")\n",
    "        title = title_element.text if title_element else \"Title not found\"\n",
    "        \n",
    "        # Find the text content\n",
    "        content_element = soup.find(\"p\")\n",
    "        text = content_element.text if content_element else \"Text not found\"\n",
    "        \n",
    "        # Display the results\n",
    "        print(f\"Title: {title}\")\n",
    "        print(f\"Text: {text}\")\n",
    "    except Exception as e:\n",
    "        print(f\"Error: {e}\")\n",
    "\n",
    "# Call the function to fetch and process the article\n",
    "fetch_and_process_article()\n"
   ]
  },
  {
   "cell_type": "code",
   "execution_count": null,
   "metadata": {},
   "outputs": [],
   "source": []
  }
 ],
 "metadata": {
  "kernelspec": {
   "display_name": "Python 3 (ipykernel)",
   "language": "python",
   "name": "python3"
  },
  "language_info": {
   "codemirror_mode": {
    "name": "ipython",
    "version": 3
   },
   "file_extension": ".py",
   "mimetype": "text/x-python",
   "name": "python",
   "nbconvert_exporter": "python",
   "pygments_lexer": "ipython3",
   "version": "3.11.5"
  }
 },
 "nbformat": 4,
 "nbformat_minor": 4
}
